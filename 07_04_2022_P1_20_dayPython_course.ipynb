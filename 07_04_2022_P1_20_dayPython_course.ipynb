{
  "nbformat": 4,
  "nbformat_minor": 0,
  "metadata": {
    "colab": {
      "name": "07-04-2022-P1-20-dayPython-course.ipynb",
      "provenance": [],
      "collapsed_sections": []
    },
    "kernelspec": {
      "name": "python3",
      "display_name": "Python 3"
    },
    "language_info": {
      "name": "python"
    }
  },
  "cells": [
    {
      "cell_type": "code",
      "execution_count": null,
      "metadata": {
        "id": "KoWpa8s1y6sR"
      },
      "outputs": [],
      "source": [
        ""
      ]
    },
    {
      "cell_type": "markdown",
      "source": [
        "#07/04/2022 dictionary comprehension, namedtuples and its advantages in terms of memory"
      ],
      "metadata": {
        "id": "fxUjswuUMGso"
      }
    },
    {
      "cell_type": "markdown",
      "source": [
        "#Dictionary Comprehension"
      ],
      "metadata": {
        "id": "2mHMlkp14Cf5"
      }
    },
    {
      "cell_type": "code",
      "source": [
        "#create a dictionary from a list\n",
        "l1 = [\"a\",\"b\",\"c\",\"d\",\"e\",\"f\"]\n",
        "{i:i for i in l1}"
      ],
      "metadata": {
        "colab": {
          "base_uri": "https://localhost:8080/"
        },
        "id": "adllzl6I4G5J",
        "outputId": "ac5f5b24-e2db-4188-8cb8-d2cbb742ef08"
      },
      "execution_count": null,
      "outputs": [
        {
          "output_type": "execute_result",
          "data": {
            "text/plain": [
              "{'a': 'a', 'b': 'b', 'c': 'c', 'd': 'd', 'e': 'e', 'f': 'f'}"
            ]
          },
          "metadata": {},
          "execution_count": 1
        }
      ]
    },
    {
      "cell_type": "code",
      "source": [
        "l1 = [\"a\",\"b\",\"c\",\"d\",\"e\",\"f\"]\n",
        "#It creates a dictionary enumerating every item of the list\n",
        "{i:j for i,j in enumerate(l1)}"
      ],
      "metadata": {
        "colab": {
          "base_uri": "https://localhost:8080/"
        },
        "id": "6P0tSqRm4jcC",
        "outputId": "f1fa82ee-1f97-4f7a-8dc6-584cf4d32a2b"
      },
      "execution_count": null,
      "outputs": [
        {
          "output_type": "execute_result",
          "data": {
            "text/plain": [
              "{0: 'a', 1: 'b', 2: 'c', 3: 'd', 4: 'e', 5: 'f'}"
            ]
          },
          "metadata": {},
          "execution_count": 2
        }
      ]
    },
    {
      "cell_type": "code",
      "source": [
        "sentence = 'the rocket came back from mars'\n",
        "vowels = [i for i in sentence if i in \"aeiou\"]\n",
        "vowels"
      ],
      "metadata": {
        "colab": {
          "base_uri": "https://localhost:8080/"
        },
        "id": "cEUqnBBy5FWx",
        "outputId": "47a0eb44-296c-4732-b0c8-76c58ccc38a0"
      },
      "execution_count": null,
      "outputs": [
        {
          "output_type": "execute_result",
          "data": {
            "text/plain": [
              "['e', 'o', 'e', 'a', 'e', 'a', 'o', 'a']"
            ]
          },
          "metadata": {},
          "execution_count": 5
        }
      ]
    },
    {
      "cell_type": "code",
      "source": [
        "sentence = 'the rocket came back from mars'\n",
        "vowels = {i for i in sentence if i in \"aeiou\"}\n",
        "vowels"
      ],
      "metadata": {
        "colab": {
          "base_uri": "https://localhost:8080/"
        },
        "id": "U3Cxfwgq7p27",
        "outputId": "05b154da-83b0-4af6-ec22-864ff5afc21e"
      },
      "execution_count": null,
      "outputs": [
        {
          "output_type": "execute_result",
          "data": {
            "text/plain": [
              "{'a', 'e', 'o'}"
            ]
          },
          "metadata": {},
          "execution_count": 6
        }
      ]
    },
    {
      "cell_type": "code",
      "source": [
        "sentence = 'the rocket came back from mars'\n",
        "vowels = [i for i in sentence if i in \"aeiou\"]\n",
        "vowels"
      ],
      "metadata": {
        "colab": {
          "base_uri": "https://localhost:8080/"
        },
        "id": "3LmFvHFM7ueI",
        "outputId": "19dcec81-77e1-4d0e-bdb3-961f0a351436"
      },
      "execution_count": null,
      "outputs": [
        {
          "output_type": "execute_result",
          "data": {
            "text/plain": [
              "['e', 'o', 'e', 'a', 'e', 'a', 'o', 'a']"
            ]
          },
          "metadata": {},
          "execution_count": 9
        }
      ]
    },
    {
      "cell_type": "code",
      "source": [
        "quote = \"life, uh, finds a way\"\n",
        "unique_vowels = {i for i in quote if i in 'aeiou'}\n",
        "unique_vowels"
      ],
      "metadata": {
        "colab": {
          "base_uri": "https://localhost:8080/"
        },
        "id": "9M9MPBmV74BU",
        "outputId": "4e554eea-33ae-4e94-e5d7-6de5772b6066"
      },
      "execution_count": null,
      "outputs": [
        {
          "output_type": "execute_result",
          "data": {
            "text/plain": [
              "{'a', 'e', 'i', 'u'}"
            ]
          },
          "metadata": {},
          "execution_count": 10
        }
      ]
    },
    {
      "cell_type": "code",
      "source": [
        ""
      ],
      "metadata": {
        "id": "HlwXYPE0IWtb"
      },
      "execution_count": null,
      "outputs": []
    },
    {
      "cell_type": "markdown",
      "source": [
        "#special sorting"
      ],
      "metadata": {
        "id": "G674MPr2IXis"
      }
    },
    {
      "cell_type": "code",
      "source": [
        "#when you are sorting strings, case matters\n",
        "#sorted() can be used on a list of strings to sort the values in ascending order, which appears to be alphabetically by\n",
        "\n",
        "names = ['Harry','Suzy', 'Al', 'Mark']\n",
        "print(sorted(names))\n",
        "names_with_case = ['harry','suzy','al','mark']\n",
        "print(sorted(names_with_case))\n",
        "names_with_case1 = ['harry','Suzy','al','Mark']\n",
        "print(sorted(names_with_case1)) #due to unicode answer will be per the thrid print"
      ],
      "metadata": {
        "colab": {
          "base_uri": "https://localhost:8080/"
        },
        "id": "L8ChoBBz9HYi",
        "outputId": "bf9d2894-cbd1-4662-f11c-f7c8d74c43a2"
      },
      "execution_count": null,
      "outputs": [
        {
          "output_type": "stream",
          "name": "stdout",
          "text": [
            "['Al', 'Harry', 'Mark', 'Suzy']\n",
            "['al', 'harry', 'mark', 'suzy']\n",
            "['Mark', 'Suzy', 'al', 'harry']\n"
          ]
        }
      ]
    },
    {
      "cell_type": "code",
      "source": [
        "#https://unicode.org/emoji/charts/full-emoji-list.html\n",
        "#the above is unicode for \"smileys\"\n",
        "#UNICODE is useful for smileys such type of special characters, where ASCII is not properly suitable. "
      ],
      "metadata": {
        "id": "PeSzGQQIUNna"
      },
      "execution_count": null,
      "outputs": []
    },
    {
      "cell_type": "code",
      "source": [
        "names = ['Harry','Suzy', 'Al', 'Mark']\n",
        "sorted(names)"
      ],
      "metadata": {
        "colab": {
          "base_uri": "https://localhost:8080/"
        },
        "id": "5r8-QyTNPwrl",
        "outputId": "875704a9-b5f9-45d8-edeb-33d5364bd5d8"
      },
      "execution_count": null,
      "outputs": [
        {
          "output_type": "execute_result",
          "data": {
            "text/plain": [
              "['Al', 'Harry', 'Mark', 'Suzy']"
            ]
          },
          "metadata": {},
          "execution_count": 15
        }
      ]
    },
    {
      "cell_type": "code",
      "source": [
        "#sorting with key arguments\n",
        "words = ['banana','pie','washington','book']\n",
        "sorted(words,key=len)"
      ],
      "metadata": {
        "colab": {
          "base_uri": "https://localhost:8080/"
        },
        "id": "950e_Kk1_JTB",
        "outputId": "1535fe45-4bb0-4bd9-edb2-7b65ffd619a9"
      },
      "execution_count": null,
      "outputs": [
        {
          "output_type": "execute_result",
          "data": {
            "text/plain": [
              "['pie', 'book', 'banana', 'washington']"
            ]
          },
          "metadata": {},
          "execution_count": 13
        }
      ]
    },
    {
      "cell_type": "code",
      "source": [
        "#sorting by reversing. all words are reversed and basing on that sorting process \n",
        "words = ['banana','pie','washington','book']\n",
        "sorted(words,key=lambda x: x[::-1])"
      ],
      "metadata": {
        "colab": {
          "base_uri": "https://localhost:8080/"
        },
        "id": "-LPOrLqFAiII",
        "outputId": "2b2f6b2c-ea85-4152-f1d1-0f936e526c14"
      },
      "execution_count": null,
      "outputs": [
        {
          "output_type": "execute_result",
          "data": {
            "text/plain": [
              "['banana', 'pie', 'book', 'washington']"
            ]
          },
          "metadata": {},
          "execution_count": 14
        }
      ]
    },
    {
      "cell_type": "code",
      "source": [
        "words = ['banana','pie','washington','book']\n",
        "sorted(words,key=lambda x: x[::-1], reverse=True)"
      ],
      "metadata": {
        "colab": {
          "base_uri": "https://localhost:8080/"
        },
        "id": "8_IckzRYOVsa",
        "outputId": "aa16ac52-cbfd-4a28-b5c2-585d2731d828"
      },
      "execution_count": null,
      "outputs": [
        {
          "output_type": "execute_result",
          "data": {
            "text/plain": [
              "['washington', 'book', 'pie', 'banana']"
            ]
          },
          "metadata": {},
          "execution_count": 20
        }
      ]
    },
    {
      "cell_type": "code",
      "source": [
        "#python sorted() function examples \n",
        "l1 = [(2,15),(3,5),(65,5),(8,5)]\n",
        "#calling function\n",
        "lisorted = sorted(l1,key=lambda x:sum(x))  #sorting list by getting sum of tuples\n",
        "print(lisorted)"
      ],
      "metadata": {
        "colab": {
          "base_uri": "https://localhost:8080/"
        },
        "id": "3DFXx7Wv7hnM",
        "outputId": "f5bd034b-3c43-487b-f45d-1f3f046d0b86"
      },
      "execution_count": null,
      "outputs": [
        {
          "output_type": "stream",
          "name": "stdout",
          "text": [
            "[(3, 5), (8, 5), (2, 15), (65, 5)]\n"
          ]
        }
      ]
    },
    {
      "cell_type": "code",
      "source": [
        "from operator import itemgetter\n",
        "students = {\n",
        "    0: {\"name\":\"jane\",\"age\":40},\n",
        "    1: {\"name\":\"pool\",\"age\":11},\n",
        "    2: {\"name\":\"dave\",\"age\":28}\n",
        "}\n",
        "\n",
        "#sort the sub-dicts by age and print\n",
        "for student in sorted(students.values(),key=itemgetter(\"age\")):\n",
        "  print(student)"
      ],
      "metadata": {
        "id": "0uRuHKsTAun1",
        "colab": {
          "base_uri": "https://localhost:8080/"
        },
        "outputId": "08ee2a3d-95f6-451d-c3dd-499bfa8a3d14"
      },
      "execution_count": null,
      "outputs": [
        {
          "output_type": "stream",
          "name": "stdout",
          "text": [
            "{'name': 'pool', 'age': 11}\n",
            "{'name': 'dave', 'age': 28}\n",
            "{'name': 'jane', 'age': 40}\n"
          ]
        }
      ]
    },
    {
      "cell_type": "code",
      "source": [
        "students.values()"
      ],
      "metadata": {
        "colab": {
          "base_uri": "https://localhost:8080/"
        },
        "id": "qnbHnvbALfbZ",
        "outputId": "ab113f39-ec3b-489f-86fc-08249ee6a095"
      },
      "execution_count": null,
      "outputs": [
        {
          "output_type": "execute_result",
          "data": {
            "text/plain": [
              "dict_values([{'name': 'jane', 'age': 40}, {'name': 'pool', 'age': 11}, {'name': 'dave', 'age': 28}])"
            ]
          },
          "metadata": {},
          "execution_count": 7
        }
      ]
    },
    {
      "cell_type": "code",
      "source": [
        "student.values()"
      ],
      "metadata": {
        "colab": {
          "base_uri": "https://localhost:8080/"
        },
        "id": "F6Ur-u9YLrIE",
        "outputId": "addee8eb-5dc8-4d97-d63a-d38991fd19d7"
      },
      "execution_count": null,
      "outputs": [
        {
          "output_type": "execute_result",
          "data": {
            "text/plain": [
              "dict_values(['jane', 40])"
            ]
          },
          "metadata": {},
          "execution_count": 8
        }
      ]
    },
    {
      "cell_type": "markdown",
      "source": [
        "#Python Collections"
      ],
      "metadata": {
        "id": "wMYKqYdUOAQQ"
      }
    },
    {
      "cell_type": "code",
      "source": [
        "#collection of all miscellanious functions into packages. This is useful for converting dictionaries also immutable\n",
        "from collections import namedtuple\n"
      ],
      "metadata": {
        "id": "CVqBZQTGOEzj"
      },
      "execution_count": null,
      "outputs": []
    },
    {
      "cell_type": "code",
      "source": [
        "a = namedtuple('courses','name, tech')\n",
        "s = a('data science','python')\n",
        "print(s)"
      ],
      "metadata": {
        "colab": {
          "base_uri": "https://localhost:8080/"
        },
        "id": "AHcJWSsbV1vH",
        "outputId": "7e59931e-4f92-47a2-8014-b9254a0c8526"
      },
      "execution_count": null,
      "outputs": [
        {
          "output_type": "stream",
          "name": "stdout",
          "text": [
            "courses(name='data science', tech='python')\n"
          ]
        }
      ]
    },
    {
      "cell_type": "code",
      "source": [
        "#how to create a namedtouple using a list?\n",
        "s._make(['data science','python'])\n",
        "#the output will be same as before"
      ],
      "metadata": {
        "colab": {
          "base_uri": "https://localhost:8080/"
        },
        "id": "7e33RyoeZztY",
        "outputId": "9a4e0faf-e2bf-4385-f5e3-ca1216166b00"
      },
      "execution_count": null,
      "outputs": [
        {
          "output_type": "execute_result",
          "data": {
            "text/plain": [
              "courses(name='data science', tech='python')"
            ]
          },
          "metadata": {},
          "execution_count": 18
        }
      ]
    },
    {
      "cell_type": "code",
      "source": [
        "s.name"
      ],
      "metadata": {
        "colab": {
          "base_uri": "https://localhost:8080/",
          "height": 35
        },
        "id": "IXfymGemcixN",
        "outputId": "6f00914a-1a8d-46ad-cc1a-3f3e9dbb7391"
      },
      "execution_count": null,
      "outputs": [
        {
          "output_type": "execute_result",
          "data": {
            "text/plain": [
              "'data science'"
            ],
            "application/vnd.google.colaboratory.intrinsic+json": {
              "type": "string"
            }
          },
          "metadata": {},
          "execution_count": 16
        }
      ]
    },
    {
      "cell_type": "code",
      "source": [
        "s[0]"
      ],
      "metadata": {
        "colab": {
          "base_uri": "https://localhost:8080/",
          "height": 35
        },
        "id": "FhppPO2RcmsE",
        "outputId": "c7733527-1d86-4b55-efbf-eb7d603b832c"
      },
      "execution_count": null,
      "outputs": [
        {
          "output_type": "execute_result",
          "data": {
            "text/plain": [
              "'data science'"
            ],
            "application/vnd.google.colaboratory.intrinsic+json": {
              "type": "string"
            }
          },
          "metadata": {},
          "execution_count": 17
        }
      ]
    },
    {
      "cell_type": "code",
      "source": [
        "#this is to make dictionaries ordered\n",
        "from collections import namedtuple\n",
        " \n",
        "s._asdict()"
      ],
      "metadata": {
        "colab": {
          "base_uri": "https://localhost:8080/"
        },
        "id": "Nh4BdgQlb4NU",
        "outputId": "29c3a70d-cd8c-47a9-ffac-b82257a7b5e0"
      },
      "execution_count": null,
      "outputs": [
        {
          "output_type": "execute_result",
          "data": {
            "text/plain": [
              "OrderedDict([('name', 'data science'), ('tech', 'python')])"
            ]
          },
          "metadata": {},
          "execution_count": 19
        }
      ]
    },
    {
      "cell_type": "code",
      "source": [
        "a = s._asdict()\n",
        "print(a)\n",
        "a['name']"
      ],
      "metadata": {
        "colab": {
          "base_uri": "https://localhost:8080/",
          "height": 53
        },
        "id": "Gnpr6aj3cqL2",
        "outputId": "dba7823a-6aa5-4be6-943f-a4a02e85604d"
      },
      "execution_count": null,
      "outputs": [
        {
          "output_type": "stream",
          "name": "stdout",
          "text": [
            "OrderedDict([('name', 'data science'), ('tech', 'python')])\n"
          ]
        },
        {
          "output_type": "execute_result",
          "data": {
            "text/plain": [
              "'data science'"
            ],
            "application/vnd.google.colaboratory.intrinsic+json": {
              "type": "string"
            }
          },
          "metadata": {},
          "execution_count": 22
        }
      ]
    },
    {
      "cell_type": "code",
      "source": [
        "import collections\n",
        "d = collections.OrderedDict()\n",
        "d['foo'] = 'python'\n",
        "d['bar'] = 'span'\n",
        "d"
      ],
      "metadata": {
        "colab": {
          "base_uri": "https://localhost:8080/"
        },
        "id": "5_syRsLMAK7D",
        "outputId": "9024516c-ebcf-422d-c9b2-f38a2ee791ca"
      },
      "execution_count": null,
      "outputs": [
        {
          "output_type": "execute_result",
          "data": {
            "text/plain": [
              "OrderedDict([('foo', 'python'), ('bar', 'span')])"
            ]
          },
          "metadata": {},
          "execution_count": 24
        }
      ]
    },
    {
      "cell_type": "code",
      "source": [
        "d.items()"
      ],
      "metadata": {
        "colab": {
          "base_uri": "https://localhost:8080/"
        },
        "id": "duF3XTb9Azby",
        "outputId": "d7394c59-9b43-4dec-a2e2-3c075f210a1e"
      },
      "execution_count": null,
      "outputs": [
        {
          "output_type": "execute_result",
          "data": {
            "text/plain": [
              "odict_items([('foo', 'python'), ('bar', 'span')])"
            ]
          },
          "metadata": {},
          "execution_count": 27
        }
      ]
    },
    {
      "cell_type": "code",
      "source": [
        "items = list(d.items())\n",
        "items[0]"
      ],
      "metadata": {
        "colab": {
          "base_uri": "https://localhost:8080/"
        },
        "id": "qA35I4IuBffD",
        "outputId": "420a7662-3504-40ef-a3ba-93b0f00823ea"
      },
      "execution_count": null,
      "outputs": [
        {
          "output_type": "execute_result",
          "data": {
            "text/plain": [
              "('foo', 'python')"
            ]
          },
          "metadata": {},
          "execution_count": 31
        }
      ]
    },
    {
      "cell_type": "code",
      "source": [
        "#the field vlaues are passed as a string seperated by\n",
        "from collections import namedtuple\n",
        "movie = namedtuple('genre','genre rating lead_actor')\n",
        "\n",
        "#create instance of movie \n",
        "ironman = movie(genre='action',rating=8.5,lead_actor='robert downey junior')\n",
        "titanic = movie(genre='romance',rating=8,lead_actor='leonardo decaprio')\n",
        "seven = movie(genre='crime',rating=9,lead_actor='Brad pitt')\n",
        "\n",
        "#access the fields \n",
        "print(titanic.genre)\n",
        "print(seven.lead_actor)\n",
        "print(ironman.rating)\n",
        "print(ironman)\n",
        "movie"
      ],
      "metadata": {
        "id": "1pUpL9O3Du_i",
        "colab": {
          "base_uri": "https://localhost:8080/"
        },
        "outputId": "d8ad9232-9dc0-4eed-e646-d9bc0cc4b1a1"
      },
      "execution_count": 36,
      "outputs": [
        {
          "output_type": "stream",
          "name": "stdout",
          "text": [
            "romance\n",
            "Brad pitt\n",
            "8.5\n",
            "genre(genre='action', rating=8.5, lead_actor='robert downey junior')\n"
          ]
        },
        {
          "output_type": "execute_result",
          "data": {
            "text/plain": [
              "__main__.genre"
            ]
          },
          "metadata": {},
          "execution_count": 36
        }
      ]
    },
    {
      "cell_type": "code",
      "source": [
        "#why use namedtouple over dictionary\n",
        "#A major advantage of namedtouple is they take up less space/memory than an equivalent dictionary.\n",
        "#So, in the case of large data,namedtuples are efficient\n",
        "\n",
        "#create a dict and namedtuple with same data and compare the size \n",
        "import random\n",
        "import sys\n",
        "#create dict\n",
        "dicts = {'numbers_1': random.randint(0, 10000),'numbers_2':random.randint(5000, 10000)}\n",
        "print('size or space occupied by dictionary',sys.getsizeof(dicts))\n",
        "\n",
        "#creating same dictionary to nmetuple\n",
        "data = namedtuple('data',['numbers_1','numbers_2'])\n",
        "my_namedtuple = data(**dicts)\n",
        "print('Size or space occupied by namedtuple',sys.getsizeof(my_namedtuple))"
      ],
      "metadata": {
        "colab": {
          "base_uri": "https://localhost:8080/"
        },
        "id": "MpxYq3KFF7at",
        "outputId": "24a20740-b666-4ad0-9480-546d88e60d2c"
      },
      "execution_count": 42,
      "outputs": [
        {
          "output_type": "stream",
          "name": "stdout",
          "text": [
            "size or space occupied by dictionary 248\n",
            "Size or space occupied by namedtuple 72\n"
          ]
        }
      ]
    },
    {
      "cell_type": "markdown",
      "source": [
        "#In the above example it is evident that namedtuple is occupying just 72 memory size when compared to regular 248 memory size. "
      ],
      "metadata": {
        "id": "xDTUcNUGK_nV"
      }
    },
    {
      "cell_type": "markdown",
      "source": [
        "#CHAIN MAP"
      ],
      "metadata": {
        "id": "O-StrU31KojP"
      }
    },
    {
      "cell_type": "code",
      "source": [
        ""
      ],
      "metadata": {
        "id": "kiZ2tXUVKnWg"
      },
      "execution_count": null,
      "outputs": []
    }
  ]
}